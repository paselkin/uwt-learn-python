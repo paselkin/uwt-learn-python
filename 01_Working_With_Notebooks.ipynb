{
 "cells": [
  {
   "cell_type": "markdown",
   "metadata": {},
   "source": [
    "Lesson 01: Working with Notebooks\n",
    "=================================\n",
    "Python is a language - a way of giving a computer instructions. Instructions (which we call _commands_) are sent to an _interpreter_, a program that translates the commands into _machine code_, the more elemental instructions that are used directly by your computer. There are three main ways to give commands to the Python interpreter:\n",
    "\n",
    "1. The interactive Python command line (the \"_console_\"), where you type individual commands that get fed to the interpreter. Output goes to the console window or, in the case of graphics, sometimes to pop-up windows.\n",
    "2. _Scripts_ - files with multiple lines of commands (\"code\") that go to the interpreter in sequence. Output often gets saved as files, though it could also be sent to pop-up windows or the console window.\n",
    "3. _Notebooks_ like this one, which are a mix of blocks of code, blocks of text, and the text and graphics output from the code.\n",
    "\n",
    "Because notebooks can combine code, text, and the output from code in a single, interactive page, and because you can modify part of a notebook and quickly see the effects of that modification, notebooks have become a fundamental part of the move toward [reproducible science](https://academic.oup.com/biostatistics/article/10/3/405/293660). We will be using notebooks here, though, because being able to change code and see its effect immediately is valuable for teaching and learning.\n",
    "\n",
    "In this workshop, you will be using notebooks and data that you will access through a _version control system_ called [Git](https://en.wikipedia.org/wiki/Git). In this system, all of the files we'll be using for the workshop are collected on a central bank of computers (a server) at [Github](https://github.com/). \n",
    "\n",
    "Goals of This Notebook\n",
    "-----------------------\n",
    "\n",
    "1. Make sure you have Anaconda Python, Git, and other relevant software installed \n",
    "2. Identify the location where notebooks are stored on your computer\n",
    "3. Update the notebooks on your computer for this course\n",
    "\n",
    "Updating the notebooks on your computer\n",
    "-----------------------------------------\n",
    "\n",
    "To use the tutorials in this workshop, you will need to synchronize the notebooks on your personal computer with those on our central server. We will do this using the command line and the `git` command.\n",
    "\n",
    "Start by opening a command line window (either the **Terminal** on a Mac or **cmder** on a Windows PC). You will then need to find and navigate to the folder where you want to store the materials for this workshop. On the lines below, the \"**`%`**\" refers to the _command prompt_, the symbols that the computer puts at the beginning of each command line to tell you that it's waiting for your input. Your command prompt may look different. The text after the command prompt is what you should type; _italic type_ should be filled in with something appropriate for your computer system.\n",
    "\n",
    "You are probably used to navigating around your computer's file system graphically, either using the Mac's **Finder** or the Windows **File Explorer**. You are no doubt familiar with the idea that your computer's hard drive storage is organized into folders (also called _directories_) that can contain files or other folders. If you are viewing the contents of a particular folder in the **File Explorer** or **Finder**, we often say that \"you are in\" that folder.   \n",
    "\n",
    "To see what folder you are \"in\" at the command line, try typing the following:\n",
    "```bash\n",
    "% pwd\n",
    "```\n",
    "This will print the name of the folder using the particular conventions of your computer's operating system. Mine says `C:\\Users\\Peter`. Then try typing:\n",
    "```bash\n",
    "% ls\n",
    "```\n",
    "This will list the contents of the current folder. To move \"up\" by one folder, try:\n",
    "```bash\n",
    "% cd ..\n",
    "% ls\n",
    "```\n",
    "In the list of files and folders, you should see the name of the folder you were originally in. Suppose that the listing contained a folder called \"Public\" that I wanted to look into. I'd type:  \n",
    "```bash\n",
    "% cd Public\n",
    "% ls\n",
    "```\n",
    "If I wanted to get back to my original folder, I'd type:\n",
    "```bash\n",
    "% cd C:\\Users\\Peter\n",
    "```\n",
    "To create a folder called _test_, type:\n",
    "```bash\n",
    "% md test\n",
    "```\n",
    "To delete the folder _test_, type:\n",
    "```bash\n",
    "% rmdir test\n",
    "```\n",
    "Be careful with rmdir! It shouldn't delete folders without asking you, but just in case, use it with caution. There may not be an \"undo\" option.\n",
    "\n",
    "#### Now try this:\n",
    "1. Navigate to the folder where your installation of Anaconda stores its projects. Mine is `C:\\Users\\Peter\\AnacondaProjects`. \n",
    "2. List the contents of that folder.\n",
    "3. What happens when you type `ls -la` instead of just `ls` to list the folder's contents?\n",
    "4. Make a folder called `2018_python_workshop`, go into it, and verify that it is empty.\n",
    "\n",
    "Make sure you are in the `2018_python_workshop` folder. \n",
    "\n",
    "\n",
    "\n",
    "\n",
    "What version of Python do I have?\n",
    "-------------------------------------\n",
    "\n",
    "We are using the Anaconda Python distribution for this class. That's a bit like saying \"we will be using Skippy brand peanut butter for this sandwich.\" Anaconda is one _distribution_ of the Python interpreter (and the rest of the language) among many. When you installed Python, you were able to choose which version to install. We will be using Python 3. \n",
    "\n",
    "To check what version of Python you have, "
   ]
  },
  {
   "cell_type": "code",
   "execution_count": 2,
   "metadata": {},
   "outputs": [
    {
     "name": "stdout",
     "output_type": "stream",
     "text": [
      "C:\\Users\\Peter\\Anaconda3\\python.exe\n",
      "3.6.3 |Anaconda custom (64-bit)| (default, Oct 15 2017, 03:27:45) [MSC v.1900 64 bit (AMD64)]\n",
      "sys.version_info(major=3, minor=6, micro=3, releaselevel='final', serial=0)\n"
     ]
    }
   ],
   "source": [
    "import sys\n",
    "print(sys.executable)\n",
    "print(sys.version)\n",
    "print(sys.version_info)"
   ]
  }
 ],
 "metadata": {
  "kernelspec": {
   "display_name": "Python 3",
   "language": "python",
   "name": "python3"
  },
  "language_info": {
   "codemirror_mode": {
    "name": "ipython",
    "version": 3
   },
   "file_extension": ".py",
   "mimetype": "text/x-python",
   "name": "python",
   "nbconvert_exporter": "python",
   "pygments_lexer": "ipython3",
   "version": "3.6.3"
  }
 },
 "nbformat": 4,
 "nbformat_minor": 2
}
