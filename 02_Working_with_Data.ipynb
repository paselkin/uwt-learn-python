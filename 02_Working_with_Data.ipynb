{
 "cells": [
  {
   "cell_type": "markdown",
   "metadata": {
    "collapsed": true
   },
   "source": [
    "Lesson 02: Working With Data\n",
    "===============\n",
    "\n",
    "As scientists, we often use Python to organize, analyze, and display data in a variety of ways. We'll learn some of the basic techniques you'll need in order to read a data file, ask questions of the data in it, display data in a way that makes sense, and store that information. We're going to take a problem-based approach, and will use data from a real study: [_Pliocene Warmth, Polar Amplification, and Stepped Pleistocene Cooling Recorded in NE Arctic Russia_ by J. Brigham-Grette _et al._](https://www.dropbox.com/s/moscw2rr6ksqgw1/Brigham-Grette2014_Pliocene_Pleistocene_Russia.pdf?dl=0). This is what climatologists call a _multiproxy_ study - a study in which multiple indicators of past climates (proxies) are put together to reconstruct characteristics of that past climate. In the next tutorial, we'll recreate some of Brigham-Grette's graphs and make a few of our own. This time, we'll just explore the data.\n",
    "\n",
    "Goals of this Notebook\n",
    "-----------------------\n",
    "1. Read, store, access, and save data using Python, Numpy, and Pandas\n",
    "2. Choose data structures appropriate for common tasks, including scalar data types, strings, lists, arrays, and data frames\n",
    "3. Understand basic Python error messages\n",
    "4. Load and use Python packages\n",
    "5. Perform simple mathematical and data organization operations\n",
    "6. View the contents of variables\n",
    "\n",
    "Variables\n",
    "----------\n",
    "A key piece of the puzzle is understanding how information is stored in a computer's _memory_. We'll sidestep the somewhat more complex issue of how information is stored on you computer's hard disk for now. \n",
    "\n",
    "Python stores information in what are called _variables_. I like to think of variables as bins in which Python puts information. every variable can hold a certain type of data. Some variables contain single numbers - integers (`0`, `1`, `2`, ... etc.; could be negative), decimal numbers (e.g. `1.2345`), or characters (e.g. `a`, `3`, `$`, `N`, etc.). _Sequences_ contain multiples of a single type of data. Multiple characters make up a _string_. Both strings and characters usually are identified by single or double quotation marks (e.g. `\"this is a string\"`; `'Another f#&*ing string.'`; `\"X\"` is a single character). _Lists_, a special type of sequence, are what they sound like: lists of data of a variety of types, identified by brackets (e.g. `['a', 1, 2.5, -637, 'Hubert']`). Before going much further, let's play with a few data types.\n",
    "\n",
    "#### Now Try This\n",
    "1. Run the code block below. Notice that you can use one variable to define the contents of another variable. Also notice that the `print` command outputs the contents of a variable.\n",
    "2. Modify the code block so that instead of adding `a + b`, you add `a + c`. What happens when you try to add variables with two different types of data? What potentially helpful information does Python give you? Fix the mistake by returning the line to its original state.\n",
    "3. Modify the code block so that `d` is equal to `a` minus 0.5. You are now subtracting a decimal from an integer. What happens? Do you get the same error for adding integers and decimals? "
   ]
  },
  {
   "cell_type": "code",
   "execution_count": 13,
   "metadata": {},
   "outputs": [
    {
     "name": "stdout",
     "output_type": "stream",
     "text": [
      "1\n",
      "cat\n",
      "-4\n",
      "My List: [1, 2, -3, 'dog']\n"
     ]
    }
   ],
   "source": [
    "a = 1\n",
    "b = 0\n",
    "print (a)\n",
    "\n",
    "c = 'cat'\n",
    "print (c)\n",
    "\n",
    "a + b\n",
    "\n",
    "d = a - 5\n",
    "print (d)\n",
    "\n",
    "mylist = [1, 2, -3, 'dog']\n",
    "print ('My List:',mylist)\n"
   ]
  },
  {
   "cell_type": "markdown",
   "metadata": {},
   "source": []
  }
 ],
 "metadata": {
  "kernelspec": {
   "display_name": "Python 3",
   "language": "python",
   "name": "python3"
  },
  "language_info": {
   "codemirror_mode": {
    "name": "ipython",
    "version": 3
   },
   "file_extension": ".py",
   "mimetype": "text/x-python",
   "name": "python",
   "nbconvert_exporter": "python",
   "pygments_lexer": "ipython3",
   "version": "3.6.3"
  }
 },
 "nbformat": 4,
 "nbformat_minor": 2
}
