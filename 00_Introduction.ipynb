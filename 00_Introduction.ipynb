{
 "cells": [
  {
   "cell_type": "markdown",
   "metadata": {},
   "source": [
    "Computation for Environmental Scientists\n",
    "====================\n",
    "\n",
    "Introduction\n",
    "-------------\n",
    "\n",
    "Reasons to take a computational approach:\n",
    "1. You can analyze a lot of data quickly. This is useful for large sets of data - long data sets comprising the same measurement for lots of samples, or \"wide\" data sets with lots of different pieces of information about for each sample. \"Big Data\" involves data sets that are often both long and wide, and typically requires a computational approach to analyze. Computational approaches also allow you to try out lots of different analyses on the same dataset with relatively little effort. \n",
    "3. You can visualize data in many different ways, from simple to sophisticated, and can customize graphics to fit your needs. You can typically make publication-quality visualizations directly within the programming environment. Even more importantly, you can make interactive graphics ready for distribution on the Web, or reponsive visualizations that change with data feeds in real time.  \n",
    "4. You can share data and code so that others can reproduce and verify your analyses. Not only is this helpful in teaching and learning, but it is the foundation of the open data and reproducible science movements.\n",
    "5. You can build models of real-world phenomena based on simple ideas. If those models aren't useful, you can change them without much effort.\n"
   ]
  },
  {
   "cell_type": "code",
   "execution_count": null,
   "metadata": {
    "collapsed": true
   },
   "outputs": [],
   "source": []
  }
 ],
 "metadata": {
  "kernelspec": {
   "display_name": "Python 3",
   "language": "python",
   "name": "python3"
  },
  "language_info": {
   "codemirror_mode": {
    "name": "ipython",
    "version": 3
   },
   "file_extension": ".py",
   "mimetype": "text/x-python",
   "name": "python",
   "nbconvert_exporter": "python",
   "pygments_lexer": "ipython3",
   "version": "3.6.3"
  }
 },
 "nbformat": 4,
 "nbformat_minor": 2
}
